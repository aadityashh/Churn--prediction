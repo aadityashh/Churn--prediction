{
 "cells": [
  {
   "cell_type": "code",
   "execution_count": 362,
   "metadata": {},
   "outputs": [],
   "source": [
    "import pandas as pd\n",
    "import numpy as np\n",
    "import matplotlib.pyplot as plt\n"
   ]
  },
  {
   "cell_type": "code",
   "execution_count": 363,
   "metadata": {},
   "outputs": [],
   "source": [
    "data = pd.read_csv('churn_prediction.csv')"
   ]
  },
  {
   "cell_type": "code",
   "execution_count": 364,
   "metadata": {},
   "outputs": [
    {
     "data": {
      "text/html": [
       "<div>\n",
       "<style scoped>\n",
       "    .dataframe tbody tr th:only-of-type {\n",
       "        vertical-align: middle;\n",
       "    }\n",
       "\n",
       "    .dataframe tbody tr th {\n",
       "        vertical-align: top;\n",
       "    }\n",
       "\n",
       "    .dataframe thead th {\n",
       "        text-align: right;\n",
       "    }\n",
       "</style>\n",
       "<table border=\"1\" class=\"dataframe\">\n",
       "  <thead>\n",
       "    <tr style=\"text-align: right;\">\n",
       "      <th></th>\n",
       "      <th>customer_id</th>\n",
       "      <th>vintage</th>\n",
       "      <th>age</th>\n",
       "      <th>gender</th>\n",
       "      <th>dependents</th>\n",
       "      <th>occupation</th>\n",
       "      <th>city</th>\n",
       "      <th>customer_nw_category</th>\n",
       "      <th>branch_code</th>\n",
       "      <th>current_balance</th>\n",
       "      <th>...</th>\n",
       "      <th>average_monthly_balance_prevQ</th>\n",
       "      <th>average_monthly_balance_prevQ2</th>\n",
       "      <th>current_month_credit</th>\n",
       "      <th>previous_month_credit</th>\n",
       "      <th>current_month_debit</th>\n",
       "      <th>previous_month_debit</th>\n",
       "      <th>current_month_balance</th>\n",
       "      <th>previous_month_balance</th>\n",
       "      <th>churn</th>\n",
       "      <th>last_transaction</th>\n",
       "    </tr>\n",
       "  </thead>\n",
       "  <tbody>\n",
       "    <tr>\n",
       "      <th>0</th>\n",
       "      <td>1</td>\n",
       "      <td>2101</td>\n",
       "      <td>66</td>\n",
       "      <td>Male</td>\n",
       "      <td>0.0</td>\n",
       "      <td>self_employed</td>\n",
       "      <td>187.0</td>\n",
       "      <td>2</td>\n",
       "      <td>755</td>\n",
       "      <td>1458.71</td>\n",
       "      <td>...</td>\n",
       "      <td>1458.71</td>\n",
       "      <td>1449.07</td>\n",
       "      <td>0.20</td>\n",
       "      <td>0.20</td>\n",
       "      <td>0.20</td>\n",
       "      <td>0.20</td>\n",
       "      <td>1458.71</td>\n",
       "      <td>1458.71</td>\n",
       "      <td>0</td>\n",
       "      <td>2019-05-21</td>\n",
       "    </tr>\n",
       "    <tr>\n",
       "      <th>1</th>\n",
       "      <td>2</td>\n",
       "      <td>2348</td>\n",
       "      <td>35</td>\n",
       "      <td>Male</td>\n",
       "      <td>0.0</td>\n",
       "      <td>self_employed</td>\n",
       "      <td>NaN</td>\n",
       "      <td>2</td>\n",
       "      <td>3214</td>\n",
       "      <td>5390.37</td>\n",
       "      <td>...</td>\n",
       "      <td>7799.26</td>\n",
       "      <td>12419.41</td>\n",
       "      <td>0.56</td>\n",
       "      <td>0.56</td>\n",
       "      <td>5486.27</td>\n",
       "      <td>100.56</td>\n",
       "      <td>6496.78</td>\n",
       "      <td>8787.61</td>\n",
       "      <td>0</td>\n",
       "      <td>2019-11-01</td>\n",
       "    </tr>\n",
       "    <tr>\n",
       "      <th>2</th>\n",
       "      <td>4</td>\n",
       "      <td>2194</td>\n",
       "      <td>31</td>\n",
       "      <td>Male</td>\n",
       "      <td>0.0</td>\n",
       "      <td>salaried</td>\n",
       "      <td>146.0</td>\n",
       "      <td>2</td>\n",
       "      <td>41</td>\n",
       "      <td>3913.16</td>\n",
       "      <td>...</td>\n",
       "      <td>4910.17</td>\n",
       "      <td>2815.94</td>\n",
       "      <td>0.61</td>\n",
       "      <td>0.61</td>\n",
       "      <td>6046.73</td>\n",
       "      <td>259.23</td>\n",
       "      <td>5006.28</td>\n",
       "      <td>5070.14</td>\n",
       "      <td>0</td>\n",
       "      <td>NaT</td>\n",
       "    </tr>\n",
       "    <tr>\n",
       "      <th>3</th>\n",
       "      <td>5</td>\n",
       "      <td>2329</td>\n",
       "      <td>90</td>\n",
       "      <td>NaN</td>\n",
       "      <td>NaN</td>\n",
       "      <td>self_employed</td>\n",
       "      <td>1020.0</td>\n",
       "      <td>2</td>\n",
       "      <td>582</td>\n",
       "      <td>2291.91</td>\n",
       "      <td>...</td>\n",
       "      <td>2084.54</td>\n",
       "      <td>1006.54</td>\n",
       "      <td>0.47</td>\n",
       "      <td>0.47</td>\n",
       "      <td>0.47</td>\n",
       "      <td>2143.33</td>\n",
       "      <td>2291.91</td>\n",
       "      <td>1669.79</td>\n",
       "      <td>1</td>\n",
       "      <td>2019-08-06</td>\n",
       "    </tr>\n",
       "    <tr>\n",
       "      <th>4</th>\n",
       "      <td>6</td>\n",
       "      <td>1579</td>\n",
       "      <td>42</td>\n",
       "      <td>Male</td>\n",
       "      <td>2.0</td>\n",
       "      <td>self_employed</td>\n",
       "      <td>1494.0</td>\n",
       "      <td>3</td>\n",
       "      <td>388</td>\n",
       "      <td>927.72</td>\n",
       "      <td>...</td>\n",
       "      <td>1643.31</td>\n",
       "      <td>1871.12</td>\n",
       "      <td>0.33</td>\n",
       "      <td>714.61</td>\n",
       "      <td>588.62</td>\n",
       "      <td>1538.06</td>\n",
       "      <td>1157.15</td>\n",
       "      <td>1677.16</td>\n",
       "      <td>1</td>\n",
       "      <td>2019-11-03</td>\n",
       "    </tr>\n",
       "  </tbody>\n",
       "</table>\n",
       "<p>5 rows × 21 columns</p>\n",
       "</div>"
      ],
      "text/plain": [
       "   customer_id  vintage  age gender  dependents     occupation    city  \\\n",
       "0            1     2101   66   Male         0.0  self_employed   187.0   \n",
       "1            2     2348   35   Male         0.0  self_employed     NaN   \n",
       "2            4     2194   31   Male         0.0       salaried   146.0   \n",
       "3            5     2329   90    NaN         NaN  self_employed  1020.0   \n",
       "4            6     1579   42   Male         2.0  self_employed  1494.0   \n",
       "\n",
       "   customer_nw_category  branch_code  current_balance  ...  \\\n",
       "0                     2          755          1458.71  ...   \n",
       "1                     2         3214          5390.37  ...   \n",
       "2                     2           41          3913.16  ...   \n",
       "3                     2          582          2291.91  ...   \n",
       "4                     3          388           927.72  ...   \n",
       "\n",
       "   average_monthly_balance_prevQ  average_monthly_balance_prevQ2  \\\n",
       "0                        1458.71                         1449.07   \n",
       "1                        7799.26                        12419.41   \n",
       "2                        4910.17                         2815.94   \n",
       "3                        2084.54                         1006.54   \n",
       "4                        1643.31                         1871.12   \n",
       "\n",
       "   current_month_credit  previous_month_credit  current_month_debit  \\\n",
       "0                  0.20                   0.20                 0.20   \n",
       "1                  0.56                   0.56              5486.27   \n",
       "2                  0.61                   0.61              6046.73   \n",
       "3                  0.47                   0.47                 0.47   \n",
       "4                  0.33                 714.61               588.62   \n",
       "\n",
       "   previous_month_debit  current_month_balance  previous_month_balance  churn  \\\n",
       "0                  0.20                1458.71                 1458.71      0   \n",
       "1                100.56                6496.78                 8787.61      0   \n",
       "2                259.23                5006.28                 5070.14      0   \n",
       "3               2143.33                2291.91                 1669.79      1   \n",
       "4               1538.06                1157.15                 1677.16      1   \n",
       "\n",
       "   last_transaction  \n",
       "0        2019-05-21  \n",
       "1        2019-11-01  \n",
       "2               NaT  \n",
       "3        2019-08-06  \n",
       "4        2019-11-03  \n",
       "\n",
       "[5 rows x 21 columns]"
      ]
     },
     "execution_count": 364,
     "metadata": {},
     "output_type": "execute_result"
    }
   ],
   "source": [
    "data.head()"
   ]
  },
  {
   "cell_type": "code",
   "execution_count": 365,
   "metadata": {},
   "outputs": [
    {
     "data": {
      "text/plain": [
       "customer_id                         int64\n",
       "vintage                             int64\n",
       "age                                 int64\n",
       "gender                             object\n",
       "dependents                        float64\n",
       "occupation                         object\n",
       "city                              float64\n",
       "customer_nw_category                int64\n",
       "branch_code                         int64\n",
       "current_balance                   float64\n",
       "previous_month_end_balance        float64\n",
       "average_monthly_balance_prevQ     float64\n",
       "average_monthly_balance_prevQ2    float64\n",
       "current_month_credit              float64\n",
       "previous_month_credit             float64\n",
       "current_month_debit               float64\n",
       "previous_month_debit              float64\n",
       "current_month_balance             float64\n",
       "previous_month_balance            float64\n",
       "churn                               int64\n",
       "last_transaction                   object\n",
       "dtype: object"
      ]
     },
     "execution_count": 365,
     "metadata": {},
     "output_type": "execute_result"
    }
   ],
   "source": [
    "data.dtypes"
   ]
  },
  {
   "cell_type": "code",
   "execution_count": 366,
   "metadata": {},
   "outputs": [],
   "source": [
    "data = data.drop(columns= ['customer_id'])"
   ]
  },
  {
   "cell_type": "code",
   "execution_count": 367,
   "metadata": {},
   "outputs": [
    {
     "data": {
      "text/plain": [
       "array(['Male', nan, 'Female'], dtype=object)"
      ]
     },
     "execution_count": 367,
     "metadata": {},
     "output_type": "execute_result"
    }
   ],
   "source": [
    "data['gender'].unique()"
   ]
  },
  {
   "cell_type": "code",
   "execution_count": 368,
   "metadata": {},
   "outputs": [],
   "source": [
    "data = data.rename(columns={ 'gender': 'is_male' })"
   ]
  },
  {
   "cell_type": "code",
   "execution_count": 369,
   "metadata": {},
   "outputs": [],
   "source": [
    "def encode_gender(val):\n",
    "    if val == 'Male':\n",
    "        return 1\n",
    "    elif val == 'Female':\n",
    "        return 0\n",
    "    else :\n",
    "        return 1\n",
    "    "
   ]
  },
  {
   "cell_type": "code",
   "execution_count": 370,
   "metadata": {},
   "outputs": [],
   "source": [
    "\n",
    "data['is_male']= data['is_male'].map(encode_gender)"
   ]
  },
  {
   "cell_type": "code",
   "execution_count": 371,
   "metadata": {},
   "outputs": [
    {
     "data": {
      "text/plain": [
       "array([1, 0], dtype=int64)"
      ]
     },
     "execution_count": 371,
     "metadata": {},
     "output_type": "execute_result"
    }
   ],
   "source": [
    "data['is_male'].unique()"
   ]
  },
  {
   "cell_type": "code",
   "execution_count": 372,
   "metadata": {},
   "outputs": [
    {
     "data": {
      "text/plain": [
       "vintage                              0\n",
       "age                                  0\n",
       "is_male                              0\n",
       "dependents                        2463\n",
       "occupation                          80\n",
       "city                               803\n",
       "customer_nw_category                 0\n",
       "branch_code                          0\n",
       "current_balance                      0\n",
       "previous_month_end_balance           0\n",
       "average_monthly_balance_prevQ        0\n",
       "average_monthly_balance_prevQ2       0\n",
       "current_month_credit                 0\n",
       "previous_month_credit                0\n",
       "current_month_debit                  0\n",
       "previous_month_debit                 0\n",
       "current_month_balance                0\n",
       "previous_month_balance               0\n",
       "churn                                0\n",
       "last_transaction                     0\n",
       "dtype: int64"
      ]
     },
     "execution_count": 372,
     "metadata": {},
     "output_type": "execute_result"
    }
   ],
   "source": [
    "data.isnull().sum()\n"
   ]
  },
  {
   "cell_type": "code",
   "execution_count": 373,
   "metadata": {},
   "outputs": [
    {
     "data": {
      "text/plain": [
       "array([ 187.,   nan,  146., ...,  556., 1167.,  723.])"
      ]
     },
     "execution_count": 373,
     "metadata": {},
     "output_type": "execute_result"
    }
   ],
   "source": [
    "data['city'].unique()"
   ]
  },
  {
   "cell_type": "code",
   "execution_count": 374,
   "metadata": {},
   "outputs": [
    {
     "data": {
      "text/plain": [
       "array(['self_employed', 'salaried', 'retired', 'student', nan, 'company'],\n",
       "      dtype=object)"
      ]
     },
     "execution_count": 374,
     "metadata": {},
     "output_type": "execute_result"
    }
   ],
   "source": [
    "data['occupation'].unique()"
   ]
  },
  {
   "cell_type": "code",
   "execution_count": 375,
   "metadata": {},
   "outputs": [
    {
     "data": {
      "text/plain": [
       "0    self_employed\n",
       "Name: occupation, dtype: object"
      ]
     },
     "execution_count": 375,
     "metadata": {},
     "output_type": "execute_result"
    }
   ],
   "source": [
    "data['occupation'].mode()"
   ]
  },
  {
   "cell_type": "code",
   "execution_count": 376,
   "metadata": {},
   "outputs": [],
   "source": [
    "def encode_occupation(val):\n",
    "    if val == 'student' :\n",
    "        return 0\n",
    "    elif val == 'self_employed' :\n",
    "        return 1\n",
    "    elif val == 'salaried' :\n",
    "        return 2\n",
    "    elif val == 'company' :\n",
    "        return 3\n",
    "    elif val == 'retired' :\n",
    "        return 4\n",
    "    else :\n",
    "        return 1"
   ]
  },
  {
   "cell_type": "code",
   "execution_count": 377,
   "metadata": {},
   "outputs": [],
   "source": [
    "data['occupation']= data['occupation'].map(encode_occupation)"
   ]
  },
  {
   "cell_type": "code",
   "execution_count": 378,
   "metadata": {},
   "outputs": [
    {
     "data": {
      "text/plain": [
       "array([1, 2, 4, 0, 3], dtype=int64)"
      ]
     },
     "execution_count": 378,
     "metadata": {},
     "output_type": "execute_result"
    }
   ],
   "source": [
    "data['occupation'].unique()"
   ]
  },
  {
   "cell_type": "code",
   "execution_count": 379,
   "metadata": {},
   "outputs": [],
   "source": [
    "data = data.drop(columns = ['city'])"
   ]
  },
  {
   "cell_type": "code",
   "execution_count": 380,
   "metadata": {},
   "outputs": [
    {
     "data": {
      "text/plain": [
       "0    0.0\n",
       "Name: dependents, dtype: float64"
      ]
     },
     "execution_count": 380,
     "metadata": {},
     "output_type": "execute_result"
    }
   ],
   "source": [
    "data['dependents'].mode()"
   ]
  },
  {
   "cell_type": "code",
   "execution_count": 381,
   "metadata": {},
   "outputs": [
    {
     "data": {
      "text/plain": [
       "0.34723561865812724"
      ]
     },
     "execution_count": 381,
     "metadata": {},
     "output_type": "execute_result"
    }
   ],
   "source": [
    "data['dependents'].mean()"
   ]
  },
  {
   "cell_type": "code",
   "execution_count": 382,
   "metadata": {},
   "outputs": [
    {
     "data": {
      "text/plain": [
       "0.0"
      ]
     },
     "execution_count": 382,
     "metadata": {},
     "output_type": "execute_result"
    }
   ],
   "source": [
    "data['dependents'].median()"
   ]
  },
  {
   "cell_type": "code",
   "execution_count": 383,
   "metadata": {},
   "outputs": [],
   "source": [
    "def impute_dependents(val):\n",
    "    if type (val)!= type(6.2):\n",
    "        return 0 \n"
   ]
  },
  {
   "cell_type": "code",
   "execution_count": 384,
   "metadata": {},
   "outputs": [],
   "source": [
    "data['dependents'] = data['dependents'].fillna(0)"
   ]
  },
  {
   "cell_type": "code",
   "execution_count": 385,
   "metadata": {},
   "outputs": [
    {
     "data": {
      "text/plain": [
       "array([ 0.,  2.,  3.,  1.,  7.,  4.,  6.,  5.,  9., 52., 36., 50.,  8.,\n",
       "       25., 32.])"
      ]
     },
     "execution_count": 385,
     "metadata": {},
     "output_type": "execute_result"
    }
   ],
   "source": [
    "data['dependents'].unique()"
   ]
  },
  {
   "cell_type": "code",
   "execution_count": 386,
   "metadata": {},
   "outputs": [
    {
     "data": {
      "text/plain": [
       "vintage                             int64\n",
       "age                                 int64\n",
       "is_male                             int64\n",
       "dependents                        float64\n",
       "occupation                          int64\n",
       "customer_nw_category                int64\n",
       "branch_code                         int64\n",
       "current_balance                   float64\n",
       "previous_month_end_balance        float64\n",
       "average_monthly_balance_prevQ     float64\n",
       "average_monthly_balance_prevQ2    float64\n",
       "current_month_credit              float64\n",
       "previous_month_credit             float64\n",
       "current_month_debit               float64\n",
       "previous_month_debit              float64\n",
       "current_month_balance             float64\n",
       "previous_month_balance            float64\n",
       "churn                               int64\n",
       "last_transaction                   object\n",
       "dtype: object"
      ]
     },
     "execution_count": 386,
     "metadata": {},
     "output_type": "execute_result"
    }
   ],
   "source": [
    "data.dtypes"
   ]
  },
  {
   "cell_type": "code",
   "execution_count": 387,
   "metadata": {},
   "outputs": [
    {
     "data": {
      "text/plain": [
       "vintage                           0\n",
       "age                               0\n",
       "is_male                           0\n",
       "dependents                        0\n",
       "occupation                        0\n",
       "customer_nw_category              0\n",
       "branch_code                       0\n",
       "current_balance                   0\n",
       "previous_month_end_balance        0\n",
       "average_monthly_balance_prevQ     0\n",
       "average_monthly_balance_prevQ2    0\n",
       "current_month_credit              0\n",
       "previous_month_credit             0\n",
       "current_month_debit               0\n",
       "previous_month_debit              0\n",
       "current_month_balance             0\n",
       "previous_month_balance            0\n",
       "churn                             0\n",
       "last_transaction                  0\n",
       "dtype: int64"
      ]
     },
     "execution_count": 387,
     "metadata": {},
     "output_type": "execute_result"
    }
   ],
   "source": [
    "data.isnull().sum()"
   ]
  },
  {
   "cell_type": "code",
   "execution_count": 388,
   "metadata": {},
   "outputs": [
    {
     "data": {
      "text/plain": [
       "array(['2019-05-21', '2019-11-01', 'NaT', '2019-08-06', '2019-11-03',\n",
       "       '2019-09-24', '2019-07-12', '2019-12-12', '2019-12-31',\n",
       "       '2019-12-26', '2019-12-11', '2019-11-14', '2019-03-03',\n",
       "       '2019-11-09', '2019-12-28', '2019-10-23', '2019-11-30',\n",
       "       '2019-12-08', '2019-12-18', '2019-12-27', '2019-12-22',\n",
       "       '2019-12-04', '2019-11-25', '2019-10-15', '2019-08-28',\n",
       "       '2019-12-21', '2019-09-25', '2019-10-31', '2019-12-05',\n",
       "       '2019-09-22', '2019-12-24', '2019-12-20', '2019-07-24',\n",
       "       '2019-12-17', '2019-09-27', '2019-12-14', '2019-09-06',\n",
       "       '2019-10-16', '2019-12-13', '2019-12-03', '2019-12-06',\n",
       "       '2019-07-11', '2019-11-15', '2019-12-19', '2019-12-25',\n",
       "       '2019-08-15', '2019-08-27', '2019-11-12', '2019-05-15',\n",
       "       '2019-11-16', '2019-10-17', '2019-05-26', '2019-10-22',\n",
       "       '2019-12-01', '2019-07-04', '2019-11-22', '2019-04-16',\n",
       "       '2019-06-26', '2019-02-06', '2019-10-11', '2019-03-09',\n",
       "       '2019-10-29', '2019-07-10', '2019-09-26', '2019-11-29',\n",
       "       '2019-09-20', '2019-11-21', '2019-07-20', '2019-09-12',\n",
       "       '2019-05-14', '2019-10-05', '2019-11-26', '2019-10-06',\n",
       "       '2019-11-13', '2019-08-24', '2019-06-09', '2019-01-06',\n",
       "       '2019-04-18', '2019-12-10', '2019-08-21', '2019-06-05',\n",
       "       '2019-11-08', '2019-12-07', '2019-07-13', '2019-08-18',\n",
       "       '2019-08-04', '2019-03-20', '2019-08-16', '2019-01-24',\n",
       "       '2019-07-16', '2019-06-14', '2019-09-14', '2019-02-26',\n",
       "       '2019-11-23', '2019-05-18', '2019-11-06', '2019-10-24',\n",
       "       '2019-09-13', '2019-09-04', '2019-01-08', '2019-10-20',\n",
       "       '2019-09-19', '2019-04-17', '2019-08-29', '2019-10-30',\n",
       "       '2019-11-05', '2019-10-03', '2019-10-01', '2019-08-07',\n",
       "       '2019-04-25', '2019-11-17', '2019-11-20', '2019-08-02',\n",
       "       '2019-08-30', '2019-10-07', '2019-09-05', '2019-10-02',\n",
       "       '2019-01-15', '2019-09-07', '2019-12-02', '2019-10-04',\n",
       "       '2019-02-15', '2019-03-07', '2019-02-27', '2019-10-13',\n",
       "       '2019-08-01', '2019-03-14', '2019-07-17', '2019-05-08',\n",
       "       '2019-06-28', '2019-11-07', '2019-11-19', '2019-12-15',\n",
       "       '2019-10-19', '2019-12-30', '2019-10-12', '2019-07-21',\n",
       "       '2019-07-22', '2019-06-02', '2019-03-08', '2019-03-19',\n",
       "       '2019-07-19', '2019-09-03', '2019-11-02', '2019-07-31',\n",
       "       '2019-05-12', '2019-10-21', '2019-02-14', '2019-11-28',\n",
       "       '2019-02-21', '2019-10-08', '2019-06-21', '2019-01-29',\n",
       "       '2019-06-27', '2019-07-06', '2019-06-07', '2019-09-18',\n",
       "       '2019-07-25', '2019-08-26', '2019-08-08', '2019-03-06',\n",
       "       '2019-05-23', '2019-03-16', '2019-07-09', '2019-10-09',\n",
       "       '2019-12-16', '2019-07-30', '2019-11-24', '2019-04-19',\n",
       "       '2019-04-07', '2019-07-23', '2019-06-13', '2019-04-23',\n",
       "       '2019-11-18', '2019-12-09', '2019-01-19', '2019-10-27',\n",
       "       '2019-03-22', '2019-06-22', '2019-04-09', '2019-08-14',\n",
       "       '2019-08-09', '2019-02-05', '2019-06-29', '2019-07-05',\n",
       "       '2019-04-28', '2019-07-03', '2019-03-29', '2019-05-04',\n",
       "       '2019-08-17', '2019-06-23', '2019-08-31', '2019-01-25',\n",
       "       '2019-09-08', '2019-05-25', '2019-04-26', '2019-05-29',\n",
       "       '2019-08-20', '2019-09-21', '2019-05-11', '2019-06-18',\n",
       "       '2019-11-04', '2019-07-02', '2019-01-18', '2019-10-18',\n",
       "       '2019-01-02', '2019-02-02', '2019-07-26', '2019-02-10',\n",
       "       '2019-05-09', '2019-05-06', '2019-03-01', '2019-11-27',\n",
       "       '2019-05-01', '2019-05-17', '2019-09-11', '2019-10-25',\n",
       "       '2019-05-30', '2019-09-17', '2019-03-26', '2019-06-04',\n",
       "       '2019-12-23', '2019-05-07', '2019-04-20', '2019-10-28',\n",
       "       '2019-02-23', '2019-04-03', '2019-09-28', '2019-03-05',\n",
       "       '2019-01-30', '2019-01-26', '2019-02-04', '2019-06-08',\n",
       "       '2019-04-04', '2019-06-25', '2019-07-18', '2019-08-13',\n",
       "       '2019-08-22', '2019-04-27', '2019-06-30', '2019-01-04',\n",
       "       '2019-06-01', '2018-12-31', '2019-04-02', '2019-08-10',\n",
       "       '2019-01-23', '2019-09-01', '2019-02-17', '2019-06-06',\n",
       "       '2019-03-23', '2019-12-29', '2019-09-15', '2019-06-20',\n",
       "       '2019-04-06', '2019-07-28', '2019-09-10', '2019-03-30',\n",
       "       '2019-05-24', '2019-01-22', '2019-04-12', '2019-03-28',\n",
       "       '2019-06-19', '2019-11-11', '2019-03-27', '2019-05-16',\n",
       "       '2019-06-12', '2019-02-16', '2019-04-24', '2019-02-20',\n",
       "       '2019-05-05', '2019-01-16', '2019-11-10', '2019-03-13',\n",
       "       '2019-05-31', '2019-01-01', '2019-02-25', '2019-04-21',\n",
       "       '2019-07-27', '2019-04-30', '2019-02-24', '2019-09-09',\n",
       "       '2019-09-23', '2019-03-15', '2019-06-11', '2019-07-07',\n",
       "       '2019-02-12', '2019-04-11', '2019-06-15', '2019-01-03',\n",
       "       '2019-05-03', '2019-09-29', '2019-01-13', '2019-04-15',\n",
       "       '2019-04-05', '2019-02-28', '2019-02-01', '2019-05-19',\n",
       "       '2019-05-02', '2019-04-08', '2019-03-10', '2019-07-01',\n",
       "       '2019-04-13', '2019-05-28', '2019-08-23', '2019-03-12',\n",
       "       '2019-03-21', '2019-05-22', '2019-03-02', '2019-02-08',\n",
       "       '2019-01-10', '2019-09-30', '2019-03-11', '2019-02-03',\n",
       "       '2019-03-17', '2019-04-10', '2019-01-27', '2019-02-22',\n",
       "       '2019-02-09', '2019-02-07', '2019-01-09', '2019-02-19',\n",
       "       '2019-03-24', '2019-05-20', '2019-05-10', '2019-10-14',\n",
       "       '2019-08-05', '2019-08-03', '2019-06-16', '2019-09-16',\n",
       "       '2019-10-26', '2019-01-20', '2019-01-12', '2019-01-11',\n",
       "       '2019-01-17', '2019-09-02', '2019-01-21', '2019-07-29',\n",
       "       '2019-01-28', '2019-01-05', '2019-04-14', '2019-04-01',\n",
       "       '2019-04-29', '2019-03-18', '2019-06-24', '2019-03-31',\n",
       "       '2019-05-13', '2019-08-12', '2019-08-19', '2019-06-17',\n",
       "       '2019-07-08', '2019-05-27', '2019-06-03', '2019-10-10',\n",
       "       '2019-02-11', '2019-07-15', '2019-01-14', '2019-02-13',\n",
       "       '2019-03-04', '2019-07-14', '2019-08-25', '2019-01-31'],\n",
       "      dtype=object)"
      ]
     },
     "execution_count": 388,
     "metadata": {},
     "output_type": "execute_result"
    }
   ],
   "source": [
    "data['last_transaction'].unique()"
   ]
  },
  {
   "cell_type": "code",
   "execution_count": 389,
   "metadata": {},
   "outputs": [],
   "source": [
    "import time "
   ]
  },
  {
   "cell_type": "code",
   "execution_count": 390,
   "metadata": {},
   "outputs": [],
   "source": [
    "data['last_transaction'] = pd.to_datetime(data['last_transaction'])"
   ]
  },
  {
   "cell_type": "code",
   "execution_count": 391,
   "metadata": {},
   "outputs": [
    {
     "data": {
      "text/plain": [
       "vintage                                    int64\n",
       "age                                        int64\n",
       "is_male                                    int64\n",
       "dependents                               float64\n",
       "occupation                                 int64\n",
       "customer_nw_category                       int64\n",
       "branch_code                                int64\n",
       "current_balance                          float64\n",
       "previous_month_end_balance               float64\n",
       "average_monthly_balance_prevQ            float64\n",
       "average_monthly_balance_prevQ2           float64\n",
       "current_month_credit                     float64\n",
       "previous_month_credit                    float64\n",
       "current_month_debit                      float64\n",
       "previous_month_debit                     float64\n",
       "current_month_balance                    float64\n",
       "previous_month_balance                   float64\n",
       "churn                                      int64\n",
       "last_transaction                  datetime64[ns]\n",
       "dtype: object"
      ]
     },
     "execution_count": 391,
     "metadata": {},
     "output_type": "execute_result"
    }
   ],
   "source": [
    "data.dtypes"
   ]
  },
  {
   "cell_type": "code",
   "execution_count": 393,
   "metadata": {},
   "outputs": [],
   "source": [
    "data.to_csv('placed_data.csv', index = False)"
   ]
  },
  {
   "cell_type": "code",
   "execution_count": null,
   "metadata": {},
   "outputs": [],
   "source": []
  }
 ],
 "metadata": {
  "kernelspec": {
   "display_name": "base",
   "language": "python",
   "name": "python3"
  },
  "language_info": {
   "codemirror_mode": {
    "name": "ipython",
    "version": 3
   },
   "file_extension": ".py",
   "mimetype": "text/x-python",
   "name": "python",
   "nbconvert_exporter": "python",
   "pygments_lexer": "ipython3",
   "version": "3.12.4"
  }
 },
 "nbformat": 4,
 "nbformat_minor": 2
}
